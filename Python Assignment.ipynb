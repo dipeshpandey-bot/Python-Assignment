{
 "cells": [
  {
   "cell_type": "markdown",
   "metadata": {},
   "source": [
    "# Assignment of Dipesh Pandey (Section'A')"
   ]
  },
  {
   "cell_type": "markdown",
   "metadata": {},
   "source": [
    "### Section:1 Conditional statement"
   ]
  },
  {
   "cell_type": "markdown",
   "metadata": {},
   "source": [
    "1.Write a program that asks the user to enter a number and checks\n",
    "whether the number is even or odd."
   ]
  },
  {
   "cell_type": "code",
   "execution_count": null,
   "metadata": {},
   "outputs": [
    {
     "name": "stdout",
     "output_type": "stream",
     "text": [
      "9 is a odd number\n"
     ]
    }
   ],
   "source": [
    "num = int(input(\"Enter a number: \"))\n",
    "if num % 2 == 0:\n",
    "    print(f\"{num} is a even number\")\n",
    "else:\n",
    "    print(f\"{num} is a odd number\")"
   ]
  },
  {
   "cell_type": "markdown",
   "metadata": {},
   "source": [
    "2.Write a program that asks the user to enter a number and checks\n",
    "whether it is positive, negative, or zero."
   ]
  },
  {
   "cell_type": "code",
   "execution_count": 4,
   "metadata": {},
   "outputs": [
    {
     "name": "stdout",
     "output_type": "stream",
     "text": [
      "10.0 is a positive number\n"
     ]
    }
   ],
   "source": [
    "num = float(input(\"Enter a number: \"))\n",
    "if num > 0:\n",
    "    print(f\"{num} is a positive number\")\n",
    "elif num < 0:\n",
    "    print(f\"{num} is a negative number\")\n",
    "else:\n",
    "    print(f\"{num} is zero\")"
   ]
  },
  {
   "cell_type": "markdown",
   "metadata": {},
   "source": [
    "3. Write a program that asks the user to enter their age and checks\n",
    "if they are eligible to vote (18 years or older)."
   ]
  },
  {
   "cell_type": "code",
   "execution_count": 9,
   "metadata": {},
   "outputs": [
    {
     "name": "stdout",
     "output_type": "stream",
     "text": [
      "You are eligible to vote\n"
     ]
    }
   ],
   "source": [
    "num = int (input(\"Enter your age:\"))\n",
    "if age >=18:\n",
    "    print(\"You are eligible to vote\")\n",
    "else:\n",
    "    print(\"You are not eligible to vote\")"
   ]
  },
  {
   "cell_type": "markdown",
   "metadata": {},
   "source": [
    "Write a program that takes the lengths of three sides of a\n",
    "triangle as input and determines if the triangle is:\n",
    "1. Equilateral (all sides are equal)\n",
    "2. Isosceles (two sides are equal)\n",
    "3. Scalene (all sides are different)"
   ]
  },
  {
   "cell_type": "code",
   "execution_count": 20,
   "metadata": {},
   "outputs": [
    {
     "name": "stdout",
     "output_type": "stream",
     "text": [
      "it is scalene triamgle\n"
     ]
    }
   ],
   "source": [
    "num1 = int(input(\"enter the side 1: \"))\n",
    "num2 = int(input(\"enter the side 2: \"))\n",
    "num3 = int(input(\"enter the side 3: \"))\n",
    "if num1 == num2 == num3:\n",
    "     print(\"it is equilator triangle\")\n",
    "elif num1==num2 or num2==num3 or num3==num1:\n",
    "     print(\"it is isosceles triangle\")\n",
    "else:\n",
    "     print(\"it is scalene triamgle\")"
   ]
  },
  {
   "cell_type": "markdown",
   "metadata": {},
   "source": [
    "5. Write a program that asks the user to enter a password and checks\n",
    "if it matches a predefined password (e.g., \"Python123\")."
   ]
  },
  {
   "cell_type": "code",
   "execution_count": 23,
   "metadata": {},
   "outputs": [
    {
     "name": "stdout",
     "output_type": "stream",
     "text": [
      "Access granted.\n"
     ]
    }
   ],
   "source": [
    "predefined_password = \"Dipesh123\"\n",
    "entered_password = input(\"Enter the password: \")\n",
    "if entered_password == predefined_password:\n",
    "    print(\"Access granted.\")\n",
    "else:\n",
    "    print(\"Access denied. Incorrect password.\")"
   ]
  },
  {
   "cell_type": "markdown",
   "metadata": {},
   "source": [
    "### Section 2: For loops  "
   ]
  },
  {
   "cell_type": "markdown",
   "metadata": {},
   "source": [
    "#### 6.Multiplication Table: Write a Python program to print the multiplication table of a given number using a for loop.Example:\n",
    "1.Input: 5 \n",
    "\n",
    "2.Output: 5, 10, 15, ..., 50"
   ]
  },
  {
   "cell_type": "code",
   "execution_count": 1,
   "metadata": {},
   "outputs": [
    {
     "name": "stdout",
     "output_type": "stream",
     "text": [
      "10 * 1  = 10\n",
      "10 * 2  = 20\n",
      "10 * 3  = 30\n",
      "10 * 4  = 40\n",
      "10 * 5  = 50\n",
      "10 * 6  = 60\n",
      "10 * 7  = 70\n",
      "10 * 8  = 80\n",
      "10 * 9  = 90\n",
      "10 * 10  = 100\n"
     ]
    }
   ],
   "source": [
    "n=int(input(\"Enter a number\"))\n",
    "for i in range (1,11):\n",
    "    print(n ,\"*\", i ,\" =\", n*i )\n"
   ]
  },
  {
   "cell_type": "markdown",
   "metadata": {},
   "source": [
    "### 7. Count Vowels: Write a program to count and display the number of vowels in a given string."
   ]
  },
  {
   "cell_type": "code",
   "execution_count": 2,
   "metadata": {},
   "outputs": [
    {
     "name": "stdout",
     "output_type": "stream",
     "text": [
      "3\n",
      "2\n",
      "0\n",
      "2\n"
     ]
    }
   ],
   "source": [
    "def count_vowels(string):\n",
    "    vowels = \"aeiouAEIOU\"\n",
    "    count = 0\n",
    "    for char in string:\n",
    "        if char in vowels:\n",
    "            count += 1\n",
    "    return count\n",
    "result1 = count_vowels(\"ranjana\")\n",
    "print(result1)  \n",
    "result2 = count_vowels(\"color\")\n",
    "print(result2) \n",
    "result3 = count_vowels(\"sky\")\n",
    "print(result3)  \n",
    "result4 = count_vowels(\"yellow\")\n",
    "print(result4) "
   ]
  },
  {
   "cell_type": "markdown",
   "metadata": {},
   "source": [
    "### 8. Sum of Even Numbers Create a program to find the sum of all even numbers in a list using a for loop.\n",
    "Example:\n",
    "○ Input: [2, 5, 8, 3]\n",
    "○ Output: 10"
   ]
  },
  {
   "cell_type": "code",
   "execution_count": 3,
   "metadata": {},
   "outputs": [
    {
     "name": "stdout",
     "output_type": "stream",
     "text": [
      "[3, 6, 9, 12, 15, 18] is the given list\n",
      "The sum is 63\n"
     ]
    }
   ],
   "source": [
    "s=[3, 6, 9, 12, 15, 18]\n",
    "an=0\n",
    "print(f\"{s} is the given list\" )\n",
    "for i in range(len(s)):\n",
    "    an=an+s[i]\n",
    "print(f\"The sum is {an}\")"
   ]
  },
  {
   "cell_type": "markdown",
   "metadata": {},
   "source": [
    "### 9. Create a program to find the largest and smallest numbers in a list using a for loop.\n",
    "Example:\n",
    "○ Input = [10, 20, 5, 8], Output = Largest = 20, Smallest = 5"
   ]
  },
  {
   "cell_type": "code",
   "execution_count": 4,
   "metadata": {},
   "outputs": [
    {
     "name": "stdout",
     "output_type": "stream",
     "text": [
      "50 is the largest and 10 is the smallest in the list\n"
     ]
    }
   ],
   "source": [
    "sr=[10, 20, 30, 40, 50 ]\n",
    "ln,sn=sr[0],sr[0]\n",
    "for i in range(len(sr)):\n",
    "    if ln < sr[i]:\n",
    "        ln = sr[i] \n",
    "    if sn > sr[i]:\n",
    "        sn = sr[i]\n",
    "print (f\"{ln} is the largest and {sn} is the smallest in the list\" )\n"
   ]
  },
  {
   "cell_type": "markdown",
   "metadata": {},
   "source": [
    "### 10. Write a program to calculate the sum of digits of a given number using a for loop.\n",
    "Example: Input = 1234, Output = 10"
   ]
  },
  {
   "cell_type": "code",
   "execution_count": 5,
   "metadata": {},
   "outputs": [
    {
     "name": "stdout",
     "output_type": "stream",
     "text": [
      "The sum of the digits of given 2 is 2\n"
     ]
    }
   ],
   "source": [
    "nm= input(\"Enter a number,\") \n",
    "sm=0\n",
    "for i in nm:\n",
    "    sm += int(i)  \n",
    "print(f\"The sum of the digits of given {nm} is {sm}\")"
   ]
  },
  {
   "cell_type": "markdown",
   "metadata": {},
   "source": [
    "### 11. Write a program to reverse a given string using a for loop.\n",
    "Example: Input = \"Python\", Output = \"nohtyP\"\n"
   ]
  },
  {
   "cell_type": "code",
   "execution_count": 6,
   "metadata": {},
   "outputs": [
    {
     "name": "stdout",
     "output_type": "stream",
     "text": [
      " The given string is '10'\n",
      "The reverse of the given string is '01'\n"
     ]
    }
   ],
   "source": [
    "sg = input(\"Enter a string:  \")\n",
    "rsg=\"\"\n",
    "for i in range(len(sg),0,-1):\n",
    "    rsg =  rsg  + sg[i-1]\n",
    "print(f\" The given string is '{sg}'\" ) \n",
    "print(f\"The reverse of the given string is '{rsg}'\")"
   ]
  },
  {
   "cell_type": "markdown",
   "metadata": {},
   "source": [
    "## Section: 3 Function"
   ]
  },
  {
   "cell_type": "markdown",
   "metadata": {},
   "source": [
    "### 1. Factorial Function: Write a function factorial(n) that returns the factorial of a number using a for loop."
   ]
  },
  {
   "cell_type": "code",
   "execution_count": 7,
   "metadata": {},
   "outputs": [
    {
     "name": "stdout",
     "output_type": "stream",
     "text": [
      "The factorial of 22 is 749333818518405120000.\n"
     ]
    }
   ],
   "source": [
    "def factorial():\n",
    "    num = int(input(\"Enter a number to calculate its factorial: \"))\n",
    "    if num < 0:\n",
    "        print(\"Factorial not defined for negative numbers.\")\n",
    "        return\n",
    "    result = 4\n",
    "    for i in range(4, num + 1):\n",
    "        result *= i\n",
    "    print(f\"The factorial of {num} is {result}.\")\n",
    "\n",
    "factorial()"
   ]
  },
  {
   "cell_type": "markdown",
   "metadata": {},
   "source": [
    "### 2. Prime Check Function: Create a function is_prime(n) to check whether a number is prime.\n",
    "Example:\n",
    "○ Input: 7\n",
    "○ Output: True"
   ]
  },
  {
   "cell_type": "code",
   "execution_count": 8,
   "metadata": {},
   "outputs": [
    {
     "name": "stdout",
     "output_type": "stream",
     "text": [
      "True\n",
      "False\n",
      "True\n"
     ]
    }
   ],
   "source": [
    "def is_prime(number):\n",
    "\n",
    "    return number % 2 == 0\n",
    "result1 = is_prime(8)\n",
    "print(result1)  \n",
    "result2 = is_prime(9)\n",
    "print(result2)\n",
    "result3 = is_prime(2)\n",
    "print(result3) "
   ]
  },
  {
   "cell_type": "markdown",
   "metadata": {},
   "source": [
    "### 3. Find Maximum in List:Write a function find_max(lst) to find and return the maximum value in a list.\n",
    "Example:\n",
    "○ Input: [1, 3, 7, 0]\n",
    "○ Output: 7"
   ]
  },
  {
   "cell_type": "code",
   "execution_count": 9,
   "metadata": {},
   "outputs": [
    {
     "name": "stdout",
     "output_type": "stream",
     "text": [
      "4\n",
      "9\n",
      "1\n"
     ]
    }
   ],
   "source": [
    "def find_max(list1, list2):\n",
    "    return list1 if list1 > list2 else list2\n",
    "result1 = find_max(4, 2)\n",
    "print(result1)  \n",
    "result2 = find_max(9, 0)\n",
    "print(result2)  \n",
    "result3 = find_max(1, 1)\n",
    "print(result3) \n",
    " "
   ]
  },
  {
   "cell_type": "markdown",
   "metadata": {},
   "source": [
    "### 4. Write a function palindrome_check(string) that returns True if the given string is a palindrome, otherwise False.\n",
    "Example: Input = \"radar\", Output = True"
   ]
  },
  {
   "cell_type": "code",
   "execution_count": 10,
   "metadata": {},
   "outputs": [
    {
     "name": "stdout",
     "output_type": "stream",
     "text": [
      "1\n",
      "1\n",
      "0\n"
     ]
    }
   ],
   "source": [
    "def palindrome_check(string):\n",
    "    palindrome_check = \"radar\"\n",
    "     \n",
    "    count = 0\n",
    "    for char in string:\n",
    "        if char in palindrome_check:\n",
    "            count += 1\n",
    "    return count\n",
    "\n",
    "result1 = palindrome_check(\"rose\")\n",
    "print(result1)  \n",
    "result2 = palindrome_check(\"flower\")\n",
    "print(result2)\n",
    "result3 = palindrome_check(\"blue\")\n",
    "print(result3) "
   ]
  },
  {
   "cell_type": "markdown",
   "metadata": {},
   "source": [
    "### 5. Write a function sum_of_squares(n) that returns the sum of squares of the first n natural numbers."
   ]
  },
  {
   "cell_type": "code",
   "execution_count": 11,
   "metadata": {},
   "outputs": [
    {
     "name": "stdout",
     "output_type": "stream",
     "text": [
      "The sum of squares of 7 first natural numbers is 784 \n"
     ]
    }
   ],
   "source": [
    "def sum_of_squares(n):\n",
    "    count=0\n",
    "    for i in range(n+1):\n",
    "        count += i**3\n",
    "    return count\n",
    "\n",
    "N=int(input(\"Enter a natural number:  \"))\n",
    "print(f\"The sum of squares of {N} first natural numbers is {sum_of_squares(N)} \")"
   ]
  },
  {
   "cell_type": "markdown",
   "metadata": {},
   "source": [
    "### 6. Write a function sum_of_squares(n) that returns the sum of squares of the first n natural numbers.\n",
    "Example: Input = 3, Output = 1^2 + 2^2 + 3^2 = 14"
   ]
  },
  {
   "cell_type": "code",
   "execution_count": 13,
   "metadata": {},
   "outputs": [
    {
     "name": "stdout",
     "output_type": "stream",
     "text": [
      "The sum of squares of 7 first natural numbers is 61776 \n"
     ]
    }
   ],
   "source": [
    "def sum_of_squares(n):\n",
    "    count=0\n",
    "    for i in range(n+2):\n",
    "        count += i**5\n",
    "    return count\n",
    "\n",
    "N=int(input(\"Enter a natural number:  \"))\n",
    "print(f\"The sum of squares of {N} first natural numbers is {sum_of_squares(N)} \")"
   ]
  },
  {
   "cell_type": "markdown",
   "metadata": {},
   "source": [
    "## Section 4: Classes"
   ]
  },
  {
   "cell_type": "markdown",
   "metadata": {},
   "source": [
    " ### 1. Rectangle Class:Define a class Rectangle with:\n",
    "○ Two attributes: length and width.\n",
    "○ A method area() to calculate the area.\n",
    "○ A method perimeter() to calculate the perimeter."
   ]
  },
  {
   "cell_type": "code",
   "execution_count": 17,
   "metadata": {},
   "outputs": [
    {
     "name": "stdout",
     "output_type": "stream",
     "text": [
      "The area of given rectangle is: 1125\n",
      "The parameter of given rectangel is: 70\n"
     ]
    }
   ],
   "source": [
    "class Rectangle():\n",
    "    length = 25\n",
    "    width = 45\n",
    "    \n",
    "    def area(self):\n",
    "        ar= self.length * self.width\n",
    "        return ar\n",
    "    \n",
    "    def parameter(self):\n",
    "        pa= self.length + self.width\n",
    "        return pa\n",
    "    \n",
    "shape= Rectangle()\n",
    "print(f\"The area of given rectangle is: {shape.area()}\")\n",
    "print(f\"The parameter of given rectangel is: {shape.parameter()}\")"
   ]
  },
  {
   "cell_type": "markdown",
   "metadata": {},
   "source": [
    "### 2. Student Class: Create a class Student with:\n",
    "○ Attributes: name, roll_number, and marks.\n",
    "○ A method display_details() to print the student's details.\n",
    "○ A method is_passed() that returns True if marks ≥ 40, else\n",
    "False."
   ]
  },
  {
   "cell_type": "code",
   "execution_count": 16,
   "metadata": {},
   "outputs": [
    {
     "name": "stdout",
     "output_type": "stream",
     "text": [
      "Name:Dipesh Roll no:10 Marks:90\n"
     ]
    },
    {
     "data": {
      "text/plain": [
       "True"
      ]
     },
     "execution_count": 16,
     "metadata": {},
     "output_type": "execute_result"
    }
   ],
   "source": [
    "class Student:\n",
    "    name = \"Dipesh\"\n",
    "    roll_number= 10\n",
    "    marks = 90\n",
    "\n",
    "    def display_details(self):\n",
    "        print(f\"Name:{self.name} Roll no:{self.roll_number} Marks:{self.marks}\")\n",
    "    \n",
    "    def is_passed(self):\n",
    "        if self.marks >= 40:\n",
    "            return True\n",
    "        else:\n",
    "            return False\n",
    "        \n",
    "St=Student()\n",
    "St.display_details()\n",
    "St.is_passed()"
   ]
  },
  {
   "cell_type": "markdown",
   "metadata": {},
   "source": [
    "### 3. Define a class Circle with:\n",
    "● Attribute: radius.\n",
    "● Methods: area() to calculate the area, circumference() to\n",
    "calculate the circumference."
   ]
  },
  {
   "cell_type": "code",
   "execution_count": 18,
   "metadata": {},
   "outputs": [
    {
     "name": "stdout",
     "output_type": "stream",
     "text": [
      "area is 46.8\n",
      "parameter is 71.39999999999999\n"
     ]
    }
   ],
   "source": [
    "class Circle:\n",
    "    radius = 20\n",
    "\n",
    "    def area(self):\n",
    "        ar = 2.34 * self.radius ** 1\n",
    "        print(f\"area is {ar}\" ) \n",
    "\n",
    "    def circumference(self):\n",
    "        cr = 3.57 * self.radius\n",
    "        print(f\"parameter is {cr}\")\n",
    "\n",
    "a1=Circle()\n",
    "a1.area()\n",
    "a1.circumference() "
   ]
  },
  {
   "cell_type": "markdown",
   "metadata": {},
   "source": [
    "### 4. Create a class BankAccount with:\n",
    "● Attributes: account_number, account_holder, balance.\n",
    "● Methods:\n",
    "○ deposit(amount) to add money to the account."
   ]
  },
  {
   "cell_type": "code",
   "execution_count": 19,
   "metadata": {},
   "outputs": [
    {
     "name": "stdout",
     "output_type": "stream",
     "text": [
      "Account number:2460911 Holder:Dipesh Pandey Balance:500000 \n",
      "Account number:2460911 Holder:Dipesh Pandey Balance:496000 \n"
     ]
    }
   ],
   "source": [
    "class BankAccount:\n",
    "    account_number = 2460911\n",
    "    account_holder = \"Dipesh Pandey\"\n",
    "    balance = 500000\n",
    "\n",
    "    def deposit(self,discount):\n",
    "        self.balance +=  discount\n",
    "\n",
    "    def withdraw(self,discount):\n",
    "        if self.balance > 100:\n",
    "            self.balance -=  discount \n",
    "        else:\n",
    "            return \"Insufficient Balance\"\n",
    "\n",
    "    def display_balance(self):\n",
    "        print(f\"Account number:{self.account_number} Holder:{self.account_holder} Balance:{self.balance} \")\n",
    "\n",
    "ac=BankAccount()\n",
    "ac.display_balance()\n",
    "ac.deposit(2000) \n",
    "ac.withdraw(6000)\n",
    "ac.display_balance()"
   ]
  },
  {
   "cell_type": "markdown",
   "metadata": {},
   "source": [
    "### 5. A class Book with:\n",
    "● Attributes: title, author, price.\n",
    "● Methods:\n",
    "○ apply_discount(discount) to reduce the price by a\n",
    "given percentage.\n",
    "○ display_details() to print the book details."
   ]
  },
  {
   "cell_type": "code",
   "execution_count": 21,
   "metadata": {},
   "outputs": [
    {
     "name": "stdout",
     "output_type": "stream",
     "text": [
      "Book:Harry potter Author:J.K Price:5000\n",
      "Book:Harry potter Author:J.K Price:2500.0\n"
     ]
    }
   ],
   "source": [
    "class Book:\n",
    "    title = \"Harry potter\"\n",
    "    author = \"J.K\"\n",
    "    price = 5000\n",
    "\n",
    "    def apply_discount(self,discount):\n",
    "        self.price -= self.price*discount/100\n",
    "\n",
    "    def display_details(self):\n",
    "        print(f\"Book:{self.title} Author:{self.author} Price:{self.price}\")\n",
    "\n",
    "b1=Book()\n",
    "b1.display_details()\n",
    "b1.apply_discount(50)\n",
    "b1.display_details() "
   ]
  },
  {
   "cell_type": "markdown",
   "metadata": {},
   "source": [
    "### 6. Create a class Calculator with:\n",
    "○ A method add(a, b) to add two numbers.\n",
    "○ A method subtract(a, b) to subtract two numbers.\n",
    "○ A method multiply(a, b) to multiply two numbers.\n",
    "○ A method divide(a, b) to divide two numbers (handle division\n",
    "by zero gracefully)."
   ]
  },
  {
   "cell_type": "code",
   "execution_count": 22,
   "metadata": {},
   "outputs": [
    {
     "name": "stdout",
     "output_type": "stream",
     "text": [
      "The addition of the numbers is 15\n",
      "The subrtaction of given numbers is -12\n",
      "The multiplication of given numbers is 54\n",
      "The division of given numbers is 8.0\n"
     ]
    }
   ],
   "source": [
    "class Calculator:\n",
    "    def add(self,a,b):\n",
    "        print(f\"The addition of the numbers is {a+b}\")\n",
    "    \n",
    "    def subtraction(self,a,b):\n",
    "        print(f\"The subrtaction of given numbers is {a-b}\")\n",
    "\n",
    "    def multiplication(self,a,b):\n",
    "        print(f\"The multiplication of given numbers is {a*b}\")\n",
    "\n",
    "    def division(self,a,b):\n",
    "        print(f\"The division of given numbers is {a/b}\")\n",
    "\n",
    "cal=Calculator()\n",
    "cal.add(6,9)\n",
    "cal.subtraction(0,12)\n",
    "cal.multiplication(3,18)\n",
    "cal.division(8,1)\n",
    "\n"
   ]
  },
  {
   "cell_type": "markdown",
   "metadata": {},
   "source": [
    "### 7. Write a class Person with:\n",
    "\n",
    "○ Attributes: name, age, gender.\n",
    "○ Method introduce() to print a message like: \"Hello, my name\n",
    "is [name], I am [age] years old, and I am a [gender].\"\n",
    "○ Create a subclass Employee that adds:\n",
    "■ Attribute: job_title.\n",
    "■ Override introduce() to include the job title."
   ]
  },
  {
   "cell_type": "code",
   "execution_count": 24,
   "metadata": {},
   "outputs": [
    {
     "name": "stdout",
     "output_type": "stream",
     "text": [
      "Hello, my name is Dipesh Pandey, I am 19 and I am a male\n",
      "Hello, my name is Dipesh Pandey, I am 19 and I am a male and I work as a receptionist\n"
     ]
    }
   ],
   "source": [
    "class Person:\n",
    "    name = \"Dipesh Pandey\"\n",
    "    age = 19\n",
    "    gender = \"male\"\n",
    "\n",
    "    def introduce(self):\n",
    "        print(f\"Hello, my name is {self.name}, I am {self.age} and I am a {self.gender}\")\n",
    "\n",
    "class Employee(Person):\n",
    "    job_title= \"receptionist\"\n",
    "\n",
    "    def introduce(self):\n",
    "        print(f\"Hello, my name is {self.name}, I am {self.age} and I am a {self.gender} and I work as a {self.job_title}\")\n",
    "\n",
    "P1=Person()\n",
    "P1.introduce()\n",
    "P2=Employee()\n",
    "P2.introduce()\n",
    "\n"
   ]
  },
  {
   "cell_type": "markdown",
   "metadata": {},
   "source": [
    "## Section 4: File Handling"
   ]
  },
  {
   "cell_type": "markdown",
   "metadata": {},
   "source": [
    "### 1. File Creation and Writing: Write a Python script to:\n",
    "○ Create a file named data.txt.\n",
    "○ Write the numbers from 1 to 10 (each on a new line) to the\n",
    "file.\n",
    "○ Read the file and print its contents."
   ]
  },
  {
   "cell_type": "code",
   "execution_count": 25,
   "metadata": {},
   "outputs": [
    {
     "name": "stdout",
     "output_type": "stream",
     "text": [
      "\n",
      " 1\n",
      " 2\n",
      " 3\n",
      " 4\n",
      " 5\n",
      " 6\n",
      " 7\n",
      " 8\n",
      " 9\n",
      " 10\n"
     ]
    }
   ],
   "source": [
    "file= open(\"data.txt\",\"w\")\n",
    "for i in range(1,11):\n",
    "    file.write(f\"\\n {i}\")\n",
    "file.close()\n",
    "\n",
    "with open(\"data.txt\",\"r\") as f:\n",
    "    f1=f.read()\n",
    "    print(f1)\n"
   ]
  },
  {
   "cell_type": "markdown",
   "metadata": {},
   "source": [
    "### 2. Word Count in File: Write a program that reads a file named sample.txt, counts the number of words in it, and prints the result."
   ]
  },
  {
   "cell_type": "code",
   "execution_count": null,
   "metadata": {},
   "outputs": [],
   "source": [
    "with open(\"sample.txt\",\"r\") as file1:\n",
    "    count=file1.read()\n",
    "    print(f\"there are all together {len(count.split())} words in the file\")"
   ]
  },
  {
   "cell_type": "markdown",
   "metadata": {},
   "source": [
    "## Section 5: Error Handling"
   ]
  },
  {
   "cell_type": "markdown",
   "metadata": {},
   "source": [
    "### 1. Division with Error Handling: Write a program that takes two numbers as input and divides the first number by the second.\n",
    "○ Use try and except to handle the division by zero error."
   ]
  },
  {
   "cell_type": "code",
   "execution_count": 29,
   "metadata": {},
   "outputs": [
    {
     "name": "stdout",
     "output_type": "stream",
     "text": [
      "Enter two numbers.\n",
      "11.0\n",
      "No error\n"
     ]
    }
   ],
   "source": [
    "try:\n",
    "    print(\"Enter two numbers.\")\n",
    "    a,b= int(input(\"First number: \")), int(input(\"Second number: \"))\n",
    "    c = a/b\n",
    "    print(c)\n",
    "except Exception as e:\n",
    "    print(f\"Error type: {type(e).__name__}\")\n",
    "else:\n",
    "    print(\"No error\")"
   ]
  },
  {
   "cell_type": "markdown",
   "metadata": {},
   "source": [
    "### 2. Integer Input Validation: Create a program that asks the user to input an integer.\n",
    "○ Use try, except, and else to handle invalid input.\n",
    "Example:\n",
    "○ Input: abc\n",
    "○ Output: \"Invalid input, please enter an integer.\""
   ]
  },
  {
   "cell_type": "code",
   "execution_count": 30,
   "metadata": {},
   "outputs": [
    {
     "name": "stdout",
     "output_type": "stream",
     "text": [
      "Valid input\n"
     ]
    }
   ],
   "source": [
    "try:\n",
    "    n = input(\"Enter an integer please\")\n",
    "    if type(n)==int:\n",
    "        print(n)\n",
    "    else:\n",
    "        o=int(n)\n",
    "\n",
    "except Exception as e:\n",
    "    print(f\"Error type: {type(e).__name__}\")\n",
    "    print(\"Invalid input, please enter an integer\")\n",
    "\n",
    "else:\n",
    "    print(\"Valid input\")"
   ]
  },
  {
   "cell_type": "markdown",
   "metadata": {},
   "source": [
    "### 3. File Not Found Error Handling: Write a script that:\n",
    "\n",
    "○ Opens a file named unknown.txt.\n",
    "○ Handles the FileNotFoundError gracefully and prints an\n",
    "appropriate message."
   ]
  },
  {
   "cell_type": "code",
   "execution_count": 31,
   "metadata": {},
   "outputs": [
    {
     "name": "stdout",
     "output_type": "stream",
     "text": [
      "Error type: FileNotFoundError\n",
      "The given file is not present. Please check the name and try again.\n"
     ]
    }
   ],
   "source": [
    "# Q3\n",
    "try:\n",
    "    with open(\"unknown.txt\",\"r\") as file:\n",
    "        print(file.read())\n",
    "\n",
    "except Exception as e:                                     \n",
    "    print(f\"Error type: {type(e).__name__}\")               \n",
    "    if type(e).__name__ == \"FileNotFoundError\":\n",
    "        print(\"The given file is not present. Please check the name and try again.\")"
   ]
  }
 ],
 "metadata": {
  "kernelspec": {
   "display_name": "Python 3",
   "language": "python",
   "name": "python3"
  },
  "language_info": {
   "codemirror_mode": {
    "name": "ipython",
    "version": 3
   },
   "file_extension": ".py",
   "mimetype": "text/x-python",
   "name": "python",
   "nbconvert_exporter": "python",
   "pygments_lexer": "ipython3",
   "version": "3.13.0"
  }
 },
 "nbformat": 4,
 "nbformat_minor": 2
}
